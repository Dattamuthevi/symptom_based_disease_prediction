{
 "cells": [
  {
   "cell_type": "code",
   "execution_count": 1,
   "id": "6e65d0c0-a3da-4a7d-9a82-377223909c5e",
   "metadata": {},
   "outputs": [
    {
     "name": "stdout",
     "output_type": "stream",
     "text": [
      "Column Names: ['itching', '1']\n"
     ]
    }
   ],
   "source": [
    "import pandas as pd\n",
    "\n",
    "# Load CSV\n",
    "severity_df = pd.read_csv(\"Symptom_severity.csv\")\n",
    "\n",
    "# Print column names\n",
    "print(\"Column Names:\", severity_df.columns.tolist())  # List all column names\n"
   ]
  },
  {
   "cell_type": "code",
   "execution_count": 1,
   "id": "7a55444b-d71c-4826-bab8-d39141524412",
   "metadata": {},
   "outputs": [
    {
     "name": "stdout",
     "output_type": "stream",
     "text": [
      "Column Names: ['Drug Reaction', 'An adverse drug reaction (ADR) is an injury caused by taking medication. ADRs may occur following a single dose or prolonged administration of a drug or result from the combination of two or more drugs.']\n"
     ]
    }
   ],
   "source": [
    "import pandas as pd\n",
    "\n",
    "description_df = pd.read_csv(\"symptom_Description.csv\")\n",
    "print(\"Column Names:\", description_df.columns.tolist())  # Check actual column names\n"
   ]
  },
  {
   "cell_type": "code",
   "execution_count": 2,
   "id": "a39d6dd7-dbf1-4262-920a-59ce9f6a2a47",
   "metadata": {},
   "outputs": [
    {
     "name": "stdout",
     "output_type": "stream",
     "text": [
      "Column Names: ['Drug Reaction', 'An adverse drug reaction (ADR) is an injury caused by taking medication. ADRs may occur following a single dose or prolonged administration of a drug or result from the combination of two or more drugs.']\n"
     ]
    }
   ],
   "source": [
    "import pandas as pd\n",
    "\n",
    "# Load CSV\n",
    "description_df = pd.read_csv(\"symptom_Description.csv\")\n",
    "\n",
    "# Display actual column names\n",
    "print(\"Column Names:\", list(description_df.columns))\n"
   ]
  },
  {
   "cell_type": "code",
   "execution_count": 3,
   "id": "89d81e78-9c77-4636-9088-ed4a54f361c9",
   "metadata": {},
   "outputs": [
    {
     "name": "stdout",
     "output_type": "stream",
     "text": [
      "          Disease                                        Description\n",
      "0   Drug Reaction  An adverse drug reaction (ADR) is an injury ca...\n",
      "1         Malaria  An infectious disease caused by protozoan para...\n",
      "2         Allergy  An allergy is an immune system response to a f...\n",
      "3  Hypothyroidism  Hypothyroidism, also called underactive thyroi...\n",
      "4       Psoriasis  Psoriasis is a common skin disorder that forms...\n",
      "Column Names: ['Disease', 'Description']\n"
     ]
    }
   ],
   "source": [
    "import pandas as pd\n",
    "\n",
    "# Read CSV with custom column names\n",
    "description_df = pd.read_csv(\"symptom_Description.csv\", names=[\"Disease\", \"Description\"], header=None)\n",
    "\n",
    "# Display first few rows\n",
    "print(description_df.head())\n",
    "\n",
    "# Check column names\n",
    "print(\"Column Names:\", list(description_df.columns))\n"
   ]
  },
  {
   "cell_type": "code",
   "execution_count": null,
   "id": "03d57d4e-436e-4aab-b217-a1ece37bb52c",
   "metadata": {},
   "outputs": [],
   "source": []
  }
 ],
 "metadata": {
  "kernelspec": {
   "display_name": "Python 3 (ipykernel)",
   "language": "python",
   "name": "python3"
  },
  "language_info": {
   "codemirror_mode": {
    "name": "ipython",
    "version": 3
   },
   "file_extension": ".py",
   "mimetype": "text/x-python",
   "name": "python",
   "nbconvert_exporter": "python",
   "pygments_lexer": "ipython3",
   "version": "3.12.9"
  }
 },
 "nbformat": 4,
 "nbformat_minor": 5
}
